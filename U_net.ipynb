{
 "cells": [
  {
   "cell_type": "code",
   "execution_count": 6,
   "metadata": {
    "pycharm": {
     "name": "#%%\n"
    }
   },
   "outputs": [],
   "source": [
    "import matplotlib.image as mpimg\n",
    "\n",
    "from my_site.image.Algorithms.U_net_algorithm.model import *\n",
    "from my_site.image.Algorithms.U_net_algorithm.data import *\n",
    "from keras.callbacks import ModelCheckpoint\n",
    "from tensorflow.python.framework.ops import disable_eager_execution\n",
    "\n",
    "disable_eager_execution()"
   ]
  },
  {
   "cell_type": "markdown",
   "metadata": {
    "pycharm": {
     "name": "#%% md\n"
    }
   },
   "source": [
    "## TRAINING"
   ]
  },
  {
   "cell_type": "code",
   "execution_count": 8,
   "metadata": {
    "pycharm": {
     "name": "#%%\n"
    }
   },
   "outputs": [
    {
     "name": "stderr",
     "output_type": "stream",
     "text": [
      "C:\\Users\\Asus\\AppData\\Local\\Temp\\ipykernel_1644\\3247938464.py:11: UserWarning: `model.fit_generator` is deprecated and will be removed in a future version. Please use `Model.fit`, which supports generators.\n",
      "  model.fit_generator(myGene,steps_per_epoch=155,epochs=20,callbacks=[model_checkpoint])\n"
     ]
    },
    {
     "name": "stdout",
     "output_type": "stream",
     "text": [
      "Found 1231 images belonging to 1 classes.\n",
      "Found 1231 images belonging to 1 classes.\n"
     ]
    },
    {
     "name": "stderr",
     "output_type": "stream",
     "text": [
      "Exception ignored in sys.unraisablehook: <built-in function unraisablehook>\n",
      "Traceback (most recent call last):\n",
      "  File \"C:\\Users\\Asus\\Desktop\\PCD\\venv\\lib\\site-packages\\ipykernel\\iostream.py\", line 535, in write\n",
      "KeyboardInterrupt: \n",
      "Exception ignored in: <function BaseSession._Callable.__del__ at 0x0000016D304D4670>\n",
      "Traceback (most recent call last):\n",
      "  File \"C:\\Users\\Asus\\Desktop\\PCD\\venv\\lib\\site-packages\\tensorflow\\python\\client\\session.py\", line 1497, in __del__\n",
      "    tf_session.TF_SessionReleaseCallable(self._session._session,\n",
      "KeyboardInterrupt: \n"
     ]
    },
    {
     "ename": "KeyboardInterrupt",
     "evalue": "",
     "output_type": "error",
     "traceback": [
      "\u001B[1;31m---------------------------------------------------------------------------\u001B[0m",
      "\u001B[1;31mKeyboardInterrupt\u001B[0m                         Traceback (most recent call last)",
      "Input \u001B[1;32mIn [8]\u001B[0m, in \u001B[0;36m<cell line: 11>\u001B[1;34m()\u001B[0m\n\u001B[0;32m      9\u001B[0m model \u001B[38;5;241m=\u001B[39m unet()\n\u001B[0;32m     10\u001B[0m model_checkpoint \u001B[38;5;241m=\u001B[39m ModelCheckpoint(\u001B[38;5;124m'\u001B[39m\u001B[38;5;124munet_membrane.hdf5\u001B[39m\u001B[38;5;124m'\u001B[39m, monitor\u001B[38;5;241m=\u001B[39m\u001B[38;5;124m'\u001B[39m\u001B[38;5;124mloss\u001B[39m\u001B[38;5;124m'\u001B[39m,verbose\u001B[38;5;241m=\u001B[39m\u001B[38;5;241m1\u001B[39m, save_best_only\u001B[38;5;241m=\u001B[39m\u001B[38;5;28;01mTrue\u001B[39;00m)\n\u001B[1;32m---> 11\u001B[0m \u001B[43mmodel\u001B[49m\u001B[38;5;241;43m.\u001B[39;49m\u001B[43mfit_generator\u001B[49m\u001B[43m(\u001B[49m\u001B[43mmyGene\u001B[49m\u001B[43m,\u001B[49m\u001B[43msteps_per_epoch\u001B[49m\u001B[38;5;241;43m=\u001B[39;49m\u001B[38;5;241;43m155\u001B[39;49m\u001B[43m,\u001B[49m\u001B[43mepochs\u001B[49m\u001B[38;5;241;43m=\u001B[39;49m\u001B[38;5;241;43m20\u001B[39;49m\u001B[43m,\u001B[49m\u001B[43mcallbacks\u001B[49m\u001B[38;5;241;43m=\u001B[39;49m\u001B[43m[\u001B[49m\u001B[43mmodel_checkpoint\u001B[49m\u001B[43m]\u001B[49m\u001B[43m)\u001B[49m\n",
      "File \u001B[1;32m~\\Desktop\\PCD\\venv\\lib\\site-packages\\keras\\engine\\training_v1.py:1233\u001B[0m, in \u001B[0;36mModel.fit_generator\u001B[1;34m(self, generator, steps_per_epoch, epochs, verbose, callbacks, validation_data, validation_steps, validation_freq, class_weight, max_queue_size, workers, use_multiprocessing, shuffle, initial_epoch)\u001B[0m\n\u001B[0;32m   1222\u001B[0m \u001B[38;5;124;03m\"\"\"Fits the model on data yielded batch-by-batch by a Python generator.\u001B[39;00m\n\u001B[0;32m   1223\u001B[0m \n\u001B[0;32m   1224\u001B[0m \u001B[38;5;124;03mDEPRECATED:\u001B[39;00m\n\u001B[0;32m   1225\u001B[0m \u001B[38;5;124;03m  `Model.fit` now supports generators, so there is no longer any need to use\u001B[39;00m\n\u001B[0;32m   1226\u001B[0m \u001B[38;5;124;03m  this endpoint.\u001B[39;00m\n\u001B[0;32m   1227\u001B[0m \u001B[38;5;124;03m\"\"\"\u001B[39;00m\n\u001B[0;32m   1228\u001B[0m warnings\u001B[38;5;241m.\u001B[39mwarn(\n\u001B[0;32m   1229\u001B[0m     \u001B[38;5;124m'\u001B[39m\u001B[38;5;124m`model.fit_generator` is deprecated and \u001B[39m\u001B[38;5;124m'\u001B[39m\n\u001B[0;32m   1230\u001B[0m     \u001B[38;5;124m'\u001B[39m\u001B[38;5;124mwill be removed in a future version. \u001B[39m\u001B[38;5;124m'\u001B[39m\n\u001B[0;32m   1231\u001B[0m     \u001B[38;5;124m'\u001B[39m\u001B[38;5;124mPlease use `Model.fit`, which supports generators.\u001B[39m\u001B[38;5;124m'\u001B[39m,\n\u001B[0;32m   1232\u001B[0m     stacklevel\u001B[38;5;241m=\u001B[39m\u001B[38;5;241m2\u001B[39m)\n\u001B[1;32m-> 1233\u001B[0m \u001B[38;5;28;01mreturn\u001B[39;00m \u001B[38;5;28;43mself\u001B[39;49m\u001B[38;5;241;43m.\u001B[39;49m\u001B[43mfit\u001B[49m\u001B[43m(\u001B[49m\n\u001B[0;32m   1234\u001B[0m \u001B[43m    \u001B[49m\u001B[43mgenerator\u001B[49m\u001B[43m,\u001B[49m\n\u001B[0;32m   1235\u001B[0m \u001B[43m    \u001B[49m\u001B[43msteps_per_epoch\u001B[49m\u001B[38;5;241;43m=\u001B[39;49m\u001B[43msteps_per_epoch\u001B[49m\u001B[43m,\u001B[49m\n\u001B[0;32m   1236\u001B[0m \u001B[43m    \u001B[49m\u001B[43mepochs\u001B[49m\u001B[38;5;241;43m=\u001B[39;49m\u001B[43mepochs\u001B[49m\u001B[43m,\u001B[49m\n\u001B[0;32m   1237\u001B[0m \u001B[43m    \u001B[49m\u001B[43mverbose\u001B[49m\u001B[38;5;241;43m=\u001B[39;49m\u001B[43mverbose\u001B[49m\u001B[43m,\u001B[49m\n\u001B[0;32m   1238\u001B[0m \u001B[43m    \u001B[49m\u001B[43mcallbacks\u001B[49m\u001B[38;5;241;43m=\u001B[39;49m\u001B[43mcallbacks\u001B[49m\u001B[43m,\u001B[49m\n\u001B[0;32m   1239\u001B[0m \u001B[43m    \u001B[49m\u001B[43mvalidation_data\u001B[49m\u001B[38;5;241;43m=\u001B[39;49m\u001B[43mvalidation_data\u001B[49m\u001B[43m,\u001B[49m\n\u001B[0;32m   1240\u001B[0m \u001B[43m    \u001B[49m\u001B[43mvalidation_steps\u001B[49m\u001B[38;5;241;43m=\u001B[39;49m\u001B[43mvalidation_steps\u001B[49m\u001B[43m,\u001B[49m\n\u001B[0;32m   1241\u001B[0m \u001B[43m    \u001B[49m\u001B[43mvalidation_freq\u001B[49m\u001B[38;5;241;43m=\u001B[39;49m\u001B[43mvalidation_freq\u001B[49m\u001B[43m,\u001B[49m\n\u001B[0;32m   1242\u001B[0m \u001B[43m    \u001B[49m\u001B[43mclass_weight\u001B[49m\u001B[38;5;241;43m=\u001B[39;49m\u001B[43mclass_weight\u001B[49m\u001B[43m,\u001B[49m\n\u001B[0;32m   1243\u001B[0m \u001B[43m    \u001B[49m\u001B[43mmax_queue_size\u001B[49m\u001B[38;5;241;43m=\u001B[39;49m\u001B[43mmax_queue_size\u001B[49m\u001B[43m,\u001B[49m\n\u001B[0;32m   1244\u001B[0m \u001B[43m    \u001B[49m\u001B[43mworkers\u001B[49m\u001B[38;5;241;43m=\u001B[39;49m\u001B[43mworkers\u001B[49m\u001B[43m,\u001B[49m\n\u001B[0;32m   1245\u001B[0m \u001B[43m    \u001B[49m\u001B[43muse_multiprocessing\u001B[49m\u001B[38;5;241;43m=\u001B[39;49m\u001B[43muse_multiprocessing\u001B[49m\u001B[43m,\u001B[49m\n\u001B[0;32m   1246\u001B[0m \u001B[43m    \u001B[49m\u001B[43mshuffle\u001B[49m\u001B[38;5;241;43m=\u001B[39;49m\u001B[43mshuffle\u001B[49m\u001B[43m,\u001B[49m\n\u001B[0;32m   1247\u001B[0m \u001B[43m    \u001B[49m\u001B[43minitial_epoch\u001B[49m\u001B[38;5;241;43m=\u001B[39;49m\u001B[43minitial_epoch\u001B[49m\u001B[43m)\u001B[49m\n",
      "File \u001B[1;32m~\\Desktop\\PCD\\venv\\lib\\site-packages\\keras\\engine\\training_v1.py:777\u001B[0m, in \u001B[0;36mModel.fit\u001B[1;34m(self, x, y, batch_size, epochs, verbose, callbacks, validation_split, validation_data, shuffle, class_weight, sample_weight, initial_epoch, steps_per_epoch, validation_steps, validation_freq, max_queue_size, workers, use_multiprocessing, **kwargs)\u001B[0m\n\u001B[0;32m    774\u001B[0m \u001B[38;5;28mself\u001B[39m\u001B[38;5;241m.\u001B[39m_check_call_args(\u001B[38;5;124m'\u001B[39m\u001B[38;5;124mfit\u001B[39m\u001B[38;5;124m'\u001B[39m)\n\u001B[0;32m    776\u001B[0m func \u001B[38;5;241m=\u001B[39m \u001B[38;5;28mself\u001B[39m\u001B[38;5;241m.\u001B[39m_select_training_loop(x)\n\u001B[1;32m--> 777\u001B[0m \u001B[38;5;28;01mreturn\u001B[39;00m \u001B[43mfunc\u001B[49m\u001B[38;5;241;43m.\u001B[39;49m\u001B[43mfit\u001B[49m\u001B[43m(\u001B[49m\n\u001B[0;32m    778\u001B[0m \u001B[43m    \u001B[49m\u001B[38;5;28;43mself\u001B[39;49m\u001B[43m,\u001B[49m\n\u001B[0;32m    779\u001B[0m \u001B[43m    \u001B[49m\u001B[43mx\u001B[49m\u001B[38;5;241;43m=\u001B[39;49m\u001B[43mx\u001B[49m\u001B[43m,\u001B[49m\n\u001B[0;32m    780\u001B[0m \u001B[43m    \u001B[49m\u001B[43my\u001B[49m\u001B[38;5;241;43m=\u001B[39;49m\u001B[43my\u001B[49m\u001B[43m,\u001B[49m\n\u001B[0;32m    781\u001B[0m \u001B[43m    \u001B[49m\u001B[43mbatch_size\u001B[49m\u001B[38;5;241;43m=\u001B[39;49m\u001B[43mbatch_size\u001B[49m\u001B[43m,\u001B[49m\n\u001B[0;32m    782\u001B[0m \u001B[43m    \u001B[49m\u001B[43mepochs\u001B[49m\u001B[38;5;241;43m=\u001B[39;49m\u001B[43mepochs\u001B[49m\u001B[43m,\u001B[49m\n\u001B[0;32m    783\u001B[0m \u001B[43m    \u001B[49m\u001B[43mverbose\u001B[49m\u001B[38;5;241;43m=\u001B[39;49m\u001B[43mverbose\u001B[49m\u001B[43m,\u001B[49m\n\u001B[0;32m    784\u001B[0m \u001B[43m    \u001B[49m\u001B[43mcallbacks\u001B[49m\u001B[38;5;241;43m=\u001B[39;49m\u001B[43mcallbacks\u001B[49m\u001B[43m,\u001B[49m\n\u001B[0;32m    785\u001B[0m \u001B[43m    \u001B[49m\u001B[43mvalidation_split\u001B[49m\u001B[38;5;241;43m=\u001B[39;49m\u001B[43mvalidation_split\u001B[49m\u001B[43m,\u001B[49m\n\u001B[0;32m    786\u001B[0m \u001B[43m    \u001B[49m\u001B[43mvalidation_data\u001B[49m\u001B[38;5;241;43m=\u001B[39;49m\u001B[43mvalidation_data\u001B[49m\u001B[43m,\u001B[49m\n\u001B[0;32m    787\u001B[0m \u001B[43m    \u001B[49m\u001B[43mshuffle\u001B[49m\u001B[38;5;241;43m=\u001B[39;49m\u001B[43mshuffle\u001B[49m\u001B[43m,\u001B[49m\n\u001B[0;32m    788\u001B[0m \u001B[43m    \u001B[49m\u001B[43mclass_weight\u001B[49m\u001B[38;5;241;43m=\u001B[39;49m\u001B[43mclass_weight\u001B[49m\u001B[43m,\u001B[49m\n\u001B[0;32m    789\u001B[0m \u001B[43m    \u001B[49m\u001B[43msample_weight\u001B[49m\u001B[38;5;241;43m=\u001B[39;49m\u001B[43msample_weight\u001B[49m\u001B[43m,\u001B[49m\n\u001B[0;32m    790\u001B[0m \u001B[43m    \u001B[49m\u001B[43minitial_epoch\u001B[49m\u001B[38;5;241;43m=\u001B[39;49m\u001B[43minitial_epoch\u001B[49m\u001B[43m,\u001B[49m\n\u001B[0;32m    791\u001B[0m \u001B[43m    \u001B[49m\u001B[43msteps_per_epoch\u001B[49m\u001B[38;5;241;43m=\u001B[39;49m\u001B[43msteps_per_epoch\u001B[49m\u001B[43m,\u001B[49m\n\u001B[0;32m    792\u001B[0m \u001B[43m    \u001B[49m\u001B[43mvalidation_steps\u001B[49m\u001B[38;5;241;43m=\u001B[39;49m\u001B[43mvalidation_steps\u001B[49m\u001B[43m,\u001B[49m\n\u001B[0;32m    793\u001B[0m \u001B[43m    \u001B[49m\u001B[43mvalidation_freq\u001B[49m\u001B[38;5;241;43m=\u001B[39;49m\u001B[43mvalidation_freq\u001B[49m\u001B[43m,\u001B[49m\n\u001B[0;32m    794\u001B[0m \u001B[43m    \u001B[49m\u001B[43mmax_queue_size\u001B[49m\u001B[38;5;241;43m=\u001B[39;49m\u001B[43mmax_queue_size\u001B[49m\u001B[43m,\u001B[49m\n\u001B[0;32m    795\u001B[0m \u001B[43m    \u001B[49m\u001B[43mworkers\u001B[49m\u001B[38;5;241;43m=\u001B[39;49m\u001B[43mworkers\u001B[49m\u001B[43m,\u001B[49m\n\u001B[0;32m    796\u001B[0m \u001B[43m    \u001B[49m\u001B[43muse_multiprocessing\u001B[49m\u001B[38;5;241;43m=\u001B[39;49m\u001B[43muse_multiprocessing\u001B[49m\u001B[43m)\u001B[49m\n",
      "File \u001B[1;32m~\\Desktop\\PCD\\venv\\lib\\site-packages\\keras\\engine\\training_generator_v1.py:570\u001B[0m, in \u001B[0;36mGeneratorOrSequenceTrainingLoop.fit\u001B[1;34m(self, model, x, y, batch_size, epochs, verbose, callbacks, validation_split, validation_data, shuffle, class_weight, sample_weight, initial_epoch, steps_per_epoch, validation_steps, validation_freq, max_queue_size, workers, use_multiprocessing)\u001B[0m\n\u001B[0;32m    567\u001B[0m model\u001B[38;5;241m.\u001B[39m_validate_or_infer_batch_size(batch_size, steps_per_epoch, x)\n\u001B[0;32m    568\u001B[0m training_utils_v1\u001B[38;5;241m.\u001B[39mcheck_generator_arguments(\n\u001B[0;32m    569\u001B[0m     y, sample_weight, validation_split\u001B[38;5;241m=\u001B[39mvalidation_split)\n\u001B[1;32m--> 570\u001B[0m \u001B[38;5;28;01mreturn\u001B[39;00m \u001B[43mfit_generator\u001B[49m\u001B[43m(\u001B[49m\n\u001B[0;32m    571\u001B[0m \u001B[43m    \u001B[49m\u001B[43mmodel\u001B[49m\u001B[43m,\u001B[49m\n\u001B[0;32m    572\u001B[0m \u001B[43m    \u001B[49m\u001B[43mx\u001B[49m\u001B[43m,\u001B[49m\n\u001B[0;32m    573\u001B[0m \u001B[43m    \u001B[49m\u001B[43msteps_per_epoch\u001B[49m\u001B[38;5;241;43m=\u001B[39;49m\u001B[43msteps_per_epoch\u001B[49m\u001B[43m,\u001B[49m\n\u001B[0;32m    574\u001B[0m \u001B[43m    \u001B[49m\u001B[43mepochs\u001B[49m\u001B[38;5;241;43m=\u001B[39;49m\u001B[43mepochs\u001B[49m\u001B[43m,\u001B[49m\n\u001B[0;32m    575\u001B[0m \u001B[43m    \u001B[49m\u001B[43mverbose\u001B[49m\u001B[38;5;241;43m=\u001B[39;49m\u001B[43mverbose\u001B[49m\u001B[43m,\u001B[49m\n\u001B[0;32m    576\u001B[0m \u001B[43m    \u001B[49m\u001B[43mcallbacks\u001B[49m\u001B[38;5;241;43m=\u001B[39;49m\u001B[43mcallbacks\u001B[49m\u001B[43m,\u001B[49m\n\u001B[0;32m    577\u001B[0m \u001B[43m    \u001B[49m\u001B[43mvalidation_data\u001B[49m\u001B[38;5;241;43m=\u001B[39;49m\u001B[43mvalidation_data\u001B[49m\u001B[43m,\u001B[49m\n\u001B[0;32m    578\u001B[0m \u001B[43m    \u001B[49m\u001B[43mvalidation_steps\u001B[49m\u001B[38;5;241;43m=\u001B[39;49m\u001B[43mvalidation_steps\u001B[49m\u001B[43m,\u001B[49m\n\u001B[0;32m    579\u001B[0m \u001B[43m    \u001B[49m\u001B[43mvalidation_freq\u001B[49m\u001B[38;5;241;43m=\u001B[39;49m\u001B[43mvalidation_freq\u001B[49m\u001B[43m,\u001B[49m\n\u001B[0;32m    580\u001B[0m \u001B[43m    \u001B[49m\u001B[43mclass_weight\u001B[49m\u001B[38;5;241;43m=\u001B[39;49m\u001B[43mclass_weight\u001B[49m\u001B[43m,\u001B[49m\n\u001B[0;32m    581\u001B[0m \u001B[43m    \u001B[49m\u001B[43mmax_queue_size\u001B[49m\u001B[38;5;241;43m=\u001B[39;49m\u001B[43mmax_queue_size\u001B[49m\u001B[43m,\u001B[49m\n\u001B[0;32m    582\u001B[0m \u001B[43m    \u001B[49m\u001B[43mworkers\u001B[49m\u001B[38;5;241;43m=\u001B[39;49m\u001B[43mworkers\u001B[49m\u001B[43m,\u001B[49m\n\u001B[0;32m    583\u001B[0m \u001B[43m    \u001B[49m\u001B[43muse_multiprocessing\u001B[49m\u001B[38;5;241;43m=\u001B[39;49m\u001B[43muse_multiprocessing\u001B[49m\u001B[43m,\u001B[49m\n\u001B[0;32m    584\u001B[0m \u001B[43m    \u001B[49m\u001B[43mshuffle\u001B[49m\u001B[38;5;241;43m=\u001B[39;49m\u001B[43mshuffle\u001B[49m\u001B[43m,\u001B[49m\n\u001B[0;32m    585\u001B[0m \u001B[43m    \u001B[49m\u001B[43minitial_epoch\u001B[49m\u001B[38;5;241;43m=\u001B[39;49m\u001B[43minitial_epoch\u001B[49m\u001B[43m,\u001B[49m\n\u001B[0;32m    586\u001B[0m \u001B[43m    \u001B[49m\u001B[43msteps_name\u001B[49m\u001B[38;5;241;43m=\u001B[39;49m\u001B[38;5;124;43m'\u001B[39;49m\u001B[38;5;124;43msteps_per_epoch\u001B[39;49m\u001B[38;5;124;43m'\u001B[39;49m\u001B[43m)\u001B[49m\n",
      "File \u001B[1;32m~\\Desktop\\PCD\\venv\\lib\\site-packages\\keras\\engine\\training_generator_v1.py:198\u001B[0m, in \u001B[0;36mmodel_iteration\u001B[1;34m(model, data, steps_per_epoch, epochs, verbose, callbacks, validation_data, validation_steps, validation_freq, class_weight, max_queue_size, workers, use_multiprocessing, shuffle, initial_epoch, mode, batch_size, steps_name, **kwargs)\u001B[0m\n\u001B[0;32m    195\u001B[0m   \u001B[38;5;28;01mbreak\u001B[39;00m\n\u001B[0;32m    197\u001B[0m \u001B[38;5;66;03m# Setup work for each epoch.\u001B[39;00m\n\u001B[1;32m--> 198\u001B[0m \u001B[43mmodel\u001B[49m\u001B[38;5;241;43m.\u001B[39;49m\u001B[43mreset_metrics\u001B[49m\u001B[43m(\u001B[49m\u001B[43m)\u001B[49m\n\u001B[0;32m    199\u001B[0m epoch_logs \u001B[38;5;241m=\u001B[39m {}\n\u001B[0;32m    200\u001B[0m \u001B[38;5;28;01mif\u001B[39;00m mode \u001B[38;5;241m==\u001B[39m ModeKeys\u001B[38;5;241m.\u001B[39mTRAIN:\n",
      "File \u001B[1;32m~\\Desktop\\PCD\\venv\\lib\\site-packages\\keras\\engine\\training_v1.py:985\u001B[0m, in \u001B[0;36mModel.reset_metrics\u001B[1;34m(self)\u001B[0m\n\u001B[0;32m    983\u001B[0m metrics \u001B[38;5;241m=\u001B[39m \u001B[38;5;28mself\u001B[39m\u001B[38;5;241m.\u001B[39m_get_training_eval_metrics()\n\u001B[0;32m    984\u001B[0m \u001B[38;5;28;01mfor\u001B[39;00m m \u001B[38;5;129;01min\u001B[39;00m metrics:\n\u001B[1;32m--> 985\u001B[0m   \u001B[43mm\u001B[49m\u001B[38;5;241;43m.\u001B[39;49m\u001B[43mreset_state\u001B[49m\u001B[43m(\u001B[49m\u001B[43m)\u001B[49m\n\u001B[0;32m    987\u001B[0m \u001B[38;5;66;03m# Reset metrics on all the distributed (cloned) models.\u001B[39;00m\n\u001B[0;32m    988\u001B[0m \u001B[38;5;28;01mif\u001B[39;00m \u001B[38;5;28mself\u001B[39m\u001B[38;5;241m.\u001B[39m_distribution_strategy:\n",
      "File \u001B[1;32m~\\Desktop\\PCD\\venv\\lib\\site-packages\\keras\\metrics.py:267\u001B[0m, in \u001B[0;36mMetric.reset_state\u001B[1;34m(self)\u001B[0m\n\u001B[0;32m    265\u001B[0m   \u001B[38;5;28;01mreturn\u001B[39;00m \u001B[38;5;28mself\u001B[39m\u001B[38;5;241m.\u001B[39mreset_states()\n\u001B[0;32m    266\u001B[0m \u001B[38;5;28;01melse\u001B[39;00m:\n\u001B[1;32m--> 267\u001B[0m   \u001B[43mbackend\u001B[49m\u001B[38;5;241;43m.\u001B[39;49m\u001B[43mbatch_set_value\u001B[49m\u001B[43m(\u001B[49m\u001B[43m[\u001B[49m\u001B[43m(\u001B[49m\u001B[43mv\u001B[49m\u001B[43m,\u001B[49m\u001B[43m \u001B[49m\u001B[38;5;241;43m0\u001B[39;49m\u001B[43m)\u001B[49m\u001B[43m \u001B[49m\u001B[38;5;28;43;01mfor\u001B[39;49;00m\u001B[43m \u001B[49m\u001B[43mv\u001B[49m\u001B[43m \u001B[49m\u001B[38;5;129;43;01min\u001B[39;49;00m\u001B[43m \u001B[49m\u001B[38;5;28;43mself\u001B[39;49m\u001B[38;5;241;43m.\u001B[39;49m\u001B[43mvariables\u001B[49m\u001B[43m]\u001B[49m\u001B[43m)\u001B[49m\n",
      "File \u001B[1;32m~\\Desktop\\PCD\\venv\\lib\\site-packages\\tensorflow\\python\\util\\traceback_utils.py:150\u001B[0m, in \u001B[0;36mfilter_traceback.<locals>.error_handler\u001B[1;34m(*args, **kwargs)\u001B[0m\n\u001B[0;32m    148\u001B[0m filtered_tb \u001B[38;5;241m=\u001B[39m \u001B[38;5;28;01mNone\u001B[39;00m\n\u001B[0;32m    149\u001B[0m \u001B[38;5;28;01mtry\u001B[39;00m:\n\u001B[1;32m--> 150\u001B[0m   \u001B[38;5;28;01mreturn\u001B[39;00m fn(\u001B[38;5;241m*\u001B[39margs, \u001B[38;5;241m*\u001B[39m\u001B[38;5;241m*\u001B[39mkwargs)\n\u001B[0;32m    151\u001B[0m \u001B[38;5;28;01mexcept\u001B[39;00m \u001B[38;5;167;01mException\u001B[39;00m \u001B[38;5;28;01mas\u001B[39;00m e:\n\u001B[0;32m    152\u001B[0m   filtered_tb \u001B[38;5;241m=\u001B[39m _process_traceback_frames(e\u001B[38;5;241m.\u001B[39m__traceback__)\n",
      "File \u001B[1;32m~\\Desktop\\PCD\\venv\\lib\\site-packages\\tensorflow\\python\\util\\dispatch.py:1082\u001B[0m, in \u001B[0;36madd_dispatch_support.<locals>.decorator.<locals>.op_dispatch_handler\u001B[1;34m(*args, **kwargs)\u001B[0m\n\u001B[0;32m   1080\u001B[0m \u001B[38;5;66;03m# Fallback dispatch system (dispatch v1):\u001B[39;00m\n\u001B[0;32m   1081\u001B[0m \u001B[38;5;28;01mtry\u001B[39;00m:\n\u001B[1;32m-> 1082\u001B[0m   \u001B[38;5;28;01mreturn\u001B[39;00m dispatch_target(\u001B[38;5;241m*\u001B[39margs, \u001B[38;5;241m*\u001B[39m\u001B[38;5;241m*\u001B[39mkwargs)\n\u001B[0;32m   1083\u001B[0m \u001B[38;5;28;01mexcept\u001B[39;00m (\u001B[38;5;167;01mTypeError\u001B[39;00m, \u001B[38;5;167;01mValueError\u001B[39;00m):\n\u001B[0;32m   1084\u001B[0m   \u001B[38;5;66;03m# Note: convert_to_eager_tensor currently raises a ValueError, not a\u001B[39;00m\n\u001B[0;32m   1085\u001B[0m   \u001B[38;5;66;03m# TypeError, when given unexpected types.  So we need to catch both.\u001B[39;00m\n\u001B[0;32m   1086\u001B[0m   result \u001B[38;5;241m=\u001B[39m dispatch(op_dispatch_handler, args, kwargs)\n",
      "File \u001B[1;32m~\\Desktop\\PCD\\venv\\lib\\site-packages\\keras\\backend.py:4044\u001B[0m, in \u001B[0;36mbatch_set_value\u001B[1;34m(tuples)\u001B[0m\n\u001B[0;32m   4042\u001B[0m   assign_ops\u001B[38;5;241m.\u001B[39mappend(assign_op)\n\u001B[0;32m   4043\u001B[0m   feed_dict[assign_placeholder] \u001B[38;5;241m=\u001B[39m value\n\u001B[1;32m-> 4044\u001B[0m \u001B[43mget_session\u001B[49m\u001B[43m(\u001B[49m\u001B[43m)\u001B[49m\u001B[38;5;241m.\u001B[39mrun(assign_ops, feed_dict\u001B[38;5;241m=\u001B[39mfeed_dict)\n",
      "File \u001B[1;32m~\\Desktop\\PCD\\venv\\lib\\site-packages\\keras\\backend.py:763\u001B[0m, in \u001B[0;36mget_session\u001B[1;34m(op_input_list)\u001B[0m\n\u001B[0;32m    761\u001B[0m \u001B[38;5;28;01mif\u001B[39;00m \u001B[38;5;129;01mnot\u001B[39;00m _MANUAL_VAR_INIT:\n\u001B[0;32m    762\u001B[0m   \u001B[38;5;28;01mwith\u001B[39;00m session\u001B[38;5;241m.\u001B[39mgraph\u001B[38;5;241m.\u001B[39mas_default():\n\u001B[1;32m--> 763\u001B[0m     \u001B[43m_initialize_variables\u001B[49m\u001B[43m(\u001B[49m\u001B[43msession\u001B[49m\u001B[43m)\u001B[49m\n\u001B[0;32m    764\u001B[0m \u001B[38;5;28;01mreturn\u001B[39;00m session\n",
      "File \u001B[1;32m~\\Desktop\\PCD\\venv\\lib\\site-packages\\keras\\backend.py:1226\u001B[0m, in \u001B[0;36m_initialize_variables\u001B[1;34m(session)\u001B[0m\n\u001B[0;32m   1224\u001B[0m   v\u001B[38;5;241m.\u001B[39m_keras_initialized \u001B[38;5;241m=\u001B[39m \u001B[38;5;28;01mTrue\u001B[39;00m\n\u001B[0;32m   1225\u001B[0m \u001B[38;5;28;01mif\u001B[39;00m uninitialized_vars:\n\u001B[1;32m-> 1226\u001B[0m   \u001B[43msession\u001B[49m\u001B[38;5;241;43m.\u001B[39;49m\u001B[43mrun\u001B[49m\u001B[43m(\u001B[49m\u001B[43mtf\u001B[49m\u001B[38;5;241;43m.\u001B[39;49m\u001B[43mcompat\u001B[49m\u001B[38;5;241;43m.\u001B[39;49m\u001B[43mv1\u001B[49m\u001B[38;5;241;43m.\u001B[39;49m\u001B[43mvariables_initializer\u001B[49m\u001B[43m(\u001B[49m\u001B[43muninitialized_vars\u001B[49m\u001B[43m)\u001B[49m\u001B[43m)\u001B[49m\n",
      "File \u001B[1;32m~\\Desktop\\PCD\\venv\\lib\\site-packages\\tensorflow\\python\\client\\session.py:967\u001B[0m, in \u001B[0;36mBaseSession.run\u001B[1;34m(self, fetches, feed_dict, options, run_metadata)\u001B[0m\n\u001B[0;32m    964\u001B[0m run_metadata_ptr \u001B[38;5;241m=\u001B[39m tf_session\u001B[38;5;241m.\u001B[39mTF_NewBuffer() \u001B[38;5;28;01mif\u001B[39;00m run_metadata \u001B[38;5;28;01melse\u001B[39;00m \u001B[38;5;28;01mNone\u001B[39;00m\n\u001B[0;32m    966\u001B[0m \u001B[38;5;28;01mtry\u001B[39;00m:\n\u001B[1;32m--> 967\u001B[0m   result \u001B[38;5;241m=\u001B[39m \u001B[38;5;28;43mself\u001B[39;49m\u001B[38;5;241;43m.\u001B[39;49m\u001B[43m_run\u001B[49m\u001B[43m(\u001B[49m\u001B[38;5;28;43;01mNone\u001B[39;49;00m\u001B[43m,\u001B[49m\u001B[43m \u001B[49m\u001B[43mfetches\u001B[49m\u001B[43m,\u001B[49m\u001B[43m \u001B[49m\u001B[43mfeed_dict\u001B[49m\u001B[43m,\u001B[49m\u001B[43m \u001B[49m\u001B[43moptions_ptr\u001B[49m\u001B[43m,\u001B[49m\n\u001B[0;32m    968\u001B[0m \u001B[43m                     \u001B[49m\u001B[43mrun_metadata_ptr\u001B[49m\u001B[43m)\u001B[49m\n\u001B[0;32m    969\u001B[0m   \u001B[38;5;28;01mif\u001B[39;00m run_metadata:\n\u001B[0;32m    970\u001B[0m     proto_data \u001B[38;5;241m=\u001B[39m tf_session\u001B[38;5;241m.\u001B[39mTF_GetBuffer(run_metadata_ptr)\n",
      "File \u001B[1;32m~\\Desktop\\PCD\\venv\\lib\\site-packages\\tensorflow\\python\\client\\session.py:1190\u001B[0m, in \u001B[0;36mBaseSession._run\u001B[1;34m(self, handle, fetches, feed_dict, options, run_metadata)\u001B[0m\n\u001B[0;32m   1187\u001B[0m \u001B[38;5;66;03m# We only want to really perform the run if fetches or targets are provided,\u001B[39;00m\n\u001B[0;32m   1188\u001B[0m \u001B[38;5;66;03m# or if the call is a partial run that specifies feeds.\u001B[39;00m\n\u001B[0;32m   1189\u001B[0m \u001B[38;5;28;01mif\u001B[39;00m final_fetches \u001B[38;5;129;01mor\u001B[39;00m final_targets \u001B[38;5;129;01mor\u001B[39;00m (handle \u001B[38;5;129;01mand\u001B[39;00m feed_dict_tensor):\n\u001B[1;32m-> 1190\u001B[0m   results \u001B[38;5;241m=\u001B[39m \u001B[38;5;28;43mself\u001B[39;49m\u001B[38;5;241;43m.\u001B[39;49m\u001B[43m_do_run\u001B[49m\u001B[43m(\u001B[49m\u001B[43mhandle\u001B[49m\u001B[43m,\u001B[49m\u001B[43m \u001B[49m\u001B[43mfinal_targets\u001B[49m\u001B[43m,\u001B[49m\u001B[43m \u001B[49m\u001B[43mfinal_fetches\u001B[49m\u001B[43m,\u001B[49m\n\u001B[0;32m   1191\u001B[0m \u001B[43m                         \u001B[49m\u001B[43mfeed_dict_tensor\u001B[49m\u001B[43m,\u001B[49m\u001B[43m \u001B[49m\u001B[43moptions\u001B[49m\u001B[43m,\u001B[49m\u001B[43m \u001B[49m\u001B[43mrun_metadata\u001B[49m\u001B[43m)\u001B[49m\n\u001B[0;32m   1192\u001B[0m \u001B[38;5;28;01melse\u001B[39;00m:\n\u001B[0;32m   1193\u001B[0m   results \u001B[38;5;241m=\u001B[39m []\n",
      "File \u001B[1;32m~\\Desktop\\PCD\\venv\\lib\\site-packages\\tensorflow\\python\\client\\session.py:1370\u001B[0m, in \u001B[0;36mBaseSession._do_run\u001B[1;34m(self, handle, target_list, fetch_list, feed_dict, options, run_metadata)\u001B[0m\n\u001B[0;32m   1367\u001B[0m   \u001B[38;5;28;01mreturn\u001B[39;00m \u001B[38;5;28mself\u001B[39m\u001B[38;5;241m.\u001B[39m_call_tf_sessionprun(handle, feed_dict, fetch_list)\n\u001B[0;32m   1369\u001B[0m \u001B[38;5;28;01mif\u001B[39;00m handle \u001B[38;5;129;01mis\u001B[39;00m \u001B[38;5;28;01mNone\u001B[39;00m:\n\u001B[1;32m-> 1370\u001B[0m   \u001B[38;5;28;01mreturn\u001B[39;00m \u001B[38;5;28;43mself\u001B[39;49m\u001B[38;5;241;43m.\u001B[39;49m\u001B[43m_do_call\u001B[49m\u001B[43m(\u001B[49m\u001B[43m_run_fn\u001B[49m\u001B[43m,\u001B[49m\u001B[43m \u001B[49m\u001B[43mfeeds\u001B[49m\u001B[43m,\u001B[49m\u001B[43m \u001B[49m\u001B[43mfetches\u001B[49m\u001B[43m,\u001B[49m\u001B[43m \u001B[49m\u001B[43mtargets\u001B[49m\u001B[43m,\u001B[49m\u001B[43m \u001B[49m\u001B[43moptions\u001B[49m\u001B[43m,\u001B[49m\n\u001B[0;32m   1371\u001B[0m \u001B[43m                       \u001B[49m\u001B[43mrun_metadata\u001B[49m\u001B[43m)\u001B[49m\n\u001B[0;32m   1372\u001B[0m \u001B[38;5;28;01melse\u001B[39;00m:\n\u001B[0;32m   1373\u001B[0m   \u001B[38;5;28;01mreturn\u001B[39;00m \u001B[38;5;28mself\u001B[39m\u001B[38;5;241m.\u001B[39m_do_call(_prun_fn, handle, feeds, fetches)\n",
      "File \u001B[1;32m~\\Desktop\\PCD\\venv\\lib\\site-packages\\tensorflow\\python\\client\\session.py:1377\u001B[0m, in \u001B[0;36mBaseSession._do_call\u001B[1;34m(self, fn, *args)\u001B[0m\n\u001B[0;32m   1375\u001B[0m \u001B[38;5;28;01mdef\u001B[39;00m \u001B[38;5;21m_do_call\u001B[39m(\u001B[38;5;28mself\u001B[39m, fn, \u001B[38;5;241m*\u001B[39margs):\n\u001B[0;32m   1376\u001B[0m   \u001B[38;5;28;01mtry\u001B[39;00m:\n\u001B[1;32m-> 1377\u001B[0m     \u001B[38;5;28;01mreturn\u001B[39;00m \u001B[43mfn\u001B[49m\u001B[43m(\u001B[49m\u001B[38;5;241;43m*\u001B[39;49m\u001B[43margs\u001B[49m\u001B[43m)\u001B[49m\n\u001B[0;32m   1378\u001B[0m   \u001B[38;5;28;01mexcept\u001B[39;00m errors\u001B[38;5;241m.\u001B[39mOpError \u001B[38;5;28;01mas\u001B[39;00m e:\n\u001B[0;32m   1379\u001B[0m     message \u001B[38;5;241m=\u001B[39m compat\u001B[38;5;241m.\u001B[39mas_text(e\u001B[38;5;241m.\u001B[39mmessage)\n",
      "File \u001B[1;32m~\\Desktop\\PCD\\venv\\lib\\site-packages\\tensorflow\\python\\client\\session.py:1360\u001B[0m, in \u001B[0;36mBaseSession._do_run.<locals>._run_fn\u001B[1;34m(feed_dict, fetch_list, target_list, options, run_metadata)\u001B[0m\n\u001B[0;32m   1357\u001B[0m \u001B[38;5;28;01mdef\u001B[39;00m \u001B[38;5;21m_run_fn\u001B[39m(feed_dict, fetch_list, target_list, options, run_metadata):\n\u001B[0;32m   1358\u001B[0m   \u001B[38;5;66;03m# Ensure any changes to the graph are reflected in the runtime.\u001B[39;00m\n\u001B[0;32m   1359\u001B[0m   \u001B[38;5;28mself\u001B[39m\u001B[38;5;241m.\u001B[39m_extend_graph()\n\u001B[1;32m-> 1360\u001B[0m   \u001B[38;5;28;01mreturn\u001B[39;00m \u001B[38;5;28;43mself\u001B[39;49m\u001B[38;5;241;43m.\u001B[39;49m\u001B[43m_call_tf_sessionrun\u001B[49m\u001B[43m(\u001B[49m\u001B[43moptions\u001B[49m\u001B[43m,\u001B[49m\u001B[43m \u001B[49m\u001B[43mfeed_dict\u001B[49m\u001B[43m,\u001B[49m\u001B[43m \u001B[49m\u001B[43mfetch_list\u001B[49m\u001B[43m,\u001B[49m\n\u001B[0;32m   1361\u001B[0m \u001B[43m                                  \u001B[49m\u001B[43mtarget_list\u001B[49m\u001B[43m,\u001B[49m\u001B[43m \u001B[49m\u001B[43mrun_metadata\u001B[49m\u001B[43m)\u001B[49m\n",
      "File \u001B[1;32m~\\Desktop\\PCD\\venv\\lib\\site-packages\\tensorflow\\python\\client\\session.py:1453\u001B[0m, in \u001B[0;36mBaseSession._call_tf_sessionrun\u001B[1;34m(self, options, feed_dict, fetch_list, target_list, run_metadata)\u001B[0m\n\u001B[0;32m   1451\u001B[0m \u001B[38;5;28;01mdef\u001B[39;00m \u001B[38;5;21m_call_tf_sessionrun\u001B[39m(\u001B[38;5;28mself\u001B[39m, options, feed_dict, fetch_list, target_list,\n\u001B[0;32m   1452\u001B[0m                         run_metadata):\n\u001B[1;32m-> 1453\u001B[0m   \u001B[38;5;28;01mreturn\u001B[39;00m \u001B[43mtf_session\u001B[49m\u001B[38;5;241;43m.\u001B[39;49m\u001B[43mTF_SessionRun_wrapper\u001B[49m\u001B[43m(\u001B[49m\u001B[38;5;28;43mself\u001B[39;49m\u001B[38;5;241;43m.\u001B[39;49m\u001B[43m_session\u001B[49m\u001B[43m,\u001B[49m\u001B[43m \u001B[49m\u001B[43moptions\u001B[49m\u001B[43m,\u001B[49m\u001B[43m \u001B[49m\u001B[43mfeed_dict\u001B[49m\u001B[43m,\u001B[49m\n\u001B[0;32m   1454\u001B[0m \u001B[43m                                          \u001B[49m\u001B[43mfetch_list\u001B[49m\u001B[43m,\u001B[49m\u001B[43m \u001B[49m\u001B[43mtarget_list\u001B[49m\u001B[43m,\u001B[49m\n\u001B[0;32m   1455\u001B[0m \u001B[43m                                          \u001B[49m\u001B[43mrun_metadata\u001B[49m\u001B[43m)\u001B[49m\n",
      "\u001B[1;31mKeyboardInterrupt\u001B[0m: "
     ]
    }
   ],
   "source": [
    "data_gen_args = dict(rotation_range=0.2,\n",
    "                     width_shift_range=0.05,\n",
    "                     height_shift_range=0.05,\n",
    "                     shear_range=0.05,\n",
    "                     zoom_range=0.05,\n",
    "                     horizontal_flip=True,\n",
    "                     fill_mode='nearest')\n",
    "myGene = trainGenerator(8, r'C:\\Users\\Asus\\Desktop\\PCD\\Organized dataset\\train_test_data\\train', 'image', 'label',\n",
    "                        data_gen_args, save_to_dir=None)\n",
    "model = unet()\n",
    "model_checkpoint = ModelCheckpoint('unet_membrane.hdf5', monitor='loss', verbose=1, save_best_only=True)\n",
    "model.fit_generator(myGene, steps_per_epoch=155, epochs=20, callbacks=[model_checkpoint])"
   ]
  },
  {
   "cell_type": "code",
   "execution_count": null,
   "metadata": {
    "pycharm": {
     "name": "#%%\n",
     "is_executing": true
    }
   },
   "outputs": [],
   "source": [
    "testGene = testGenerator_many(r\"C:\\Users\\Asus\\Desktop\\PCD\\Organized dataset\\train_test_data\\test\")\n",
    "model = unet()\n",
    "model.load_weights(r\"C:\\Users\\Asus\\PycharmProjects\\pythonProject1\\unet_membrane.hdf5\")\n",
    "results = model.predict_generator(testGene, 30, verbose=1)  # model\n",
    "saveResult(r\"C:\\Users\\Asus\\Desktop\\PCD\\Organized dataset\\train_test_data\\predicted\", results)"
   ]
  },
  {
   "cell_type": "code",
   "execution_count": 24,
   "outputs": [
    {
     "name": "stdout",
     "output_type": "stream",
     "text": [
      "Shape: (256, 256)\n",
      "Dimensions: 2\n",
      "Type: <class 'numpy.ndarray'>\n",
      "Data type: uint8\n",
      "min value, max value: (0, 95)\n",
      "---\n",
      "Shape: (256, 256)\n",
      "Dimensions: 2\n",
      "Type: <class 'numpy.ndarray'>\n",
      "Data type: uint8\n",
      "min value, max value: (0, 35)\n",
      "---\n",
      "Shape: (256, 256)\n",
      "Dimensions: 2\n",
      "Type: <class 'numpy.ndarray'>\n",
      "Data type: uint8\n",
      "min value, max value: (0, 26)\n",
      "---\n",
      "Shape: (256, 256)\n",
      "Dimensions: 2\n",
      "Type: <class 'numpy.ndarray'>\n",
      "Data type: uint8\n",
      "min value, max value: (0, 25)\n",
      "---\n",
      "Shape: (256, 256)\n",
      "Dimensions: 2\n",
      "Type: <class 'numpy.ndarray'>\n",
      "Data type: uint8\n",
      "min value, max value: (0, 126)\n",
      "---\n",
      "Shape: (256, 256)\n",
      "Dimensions: 2\n",
      "Type: <class 'numpy.ndarray'>\n",
      "Data type: uint8\n",
      "min value, max value: (0, 126)\n",
      "---\n",
      "Shape: (256, 256)\n",
      "Dimensions: 2\n",
      "Type: <class 'numpy.ndarray'>\n",
      "Data type: uint8\n",
      "min value, max value: (0, 126)\n",
      "---\n",
      "Shape: (256, 256)\n",
      "Dimensions: 2\n",
      "Type: <class 'numpy.ndarray'>\n",
      "Data type: uint8\n",
      "min value, max value: (0, 126)\n",
      "---\n",
      "Shape: (256, 256)\n",
      "Dimensions: 2\n",
      "Type: <class 'numpy.ndarray'>\n",
      "Data type: uint8\n",
      "min value, max value: (0, 126)\n",
      "---\n",
      "Shape: (256, 256)\n",
      "Dimensions: 2\n",
      "Type: <class 'numpy.ndarray'>\n",
      "Data type: uint8\n",
      "min value, max value: (0, 126)\n",
      "---\n",
      "Shape: (256, 256)\n",
      "Dimensions: 2\n",
      "Type: <class 'numpy.ndarray'>\n",
      "Data type: uint8\n",
      "min value, max value: (0, 43)\n",
      "---\n",
      "Shape: (256, 256)\n",
      "Dimensions: 2\n",
      "Type: <class 'numpy.ndarray'>\n",
      "Data type: uint8\n",
      "min value, max value: (0, 20)\n",
      "---\n",
      "Shape: (256, 256)\n",
      "Dimensions: 2\n",
      "Type: <class 'numpy.ndarray'>\n",
      "Data type: uint8\n",
      "min value, max value: (0, 126)\n",
      "---\n",
      "Shape: (256, 256)\n",
      "Dimensions: 2\n",
      "Type: <class 'numpy.ndarray'>\n",
      "Data type: uint8\n",
      "min value, max value: (0, 126)\n",
      "---\n",
      "Shape: (256, 256)\n",
      "Dimensions: 2\n",
      "Type: <class 'numpy.ndarray'>\n",
      "Data type: uint8\n",
      "min value, max value: (0, 126)\n",
      "---\n",
      "Shape: (256, 256)\n",
      "Dimensions: 2\n",
      "Type: <class 'numpy.ndarray'>\n",
      "Data type: uint8\n",
      "min value, max value: (0, 126)\n",
      "---\n",
      "Shape: (256, 256)\n",
      "Dimensions: 2\n",
      "Type: <class 'numpy.ndarray'>\n",
      "Data type: uint8\n",
      "min value, max value: (0, 126)\n",
      "---\n",
      "Shape: (256, 256)\n",
      "Dimensions: 2\n",
      "Type: <class 'numpy.ndarray'>\n",
      "Data type: uint8\n",
      "min value, max value: (0, 126)\n",
      "---\n",
      "Shape: (256, 256)\n",
      "Dimensions: 2\n",
      "Type: <class 'numpy.ndarray'>\n",
      "Data type: uint8\n",
      "min value, max value: (0, 31)\n",
      "---\n",
      "Shape: (256, 256)\n",
      "Dimensions: 2\n",
      "Type: <class 'numpy.ndarray'>\n",
      "Data type: uint8\n",
      "min value, max value: (0, 56)\n",
      "---\n",
      "Shape: (256, 256)\n",
      "Dimensions: 2\n",
      "Type: <class 'numpy.ndarray'>\n",
      "Data type: uint8\n",
      "min value, max value: (0, 66)\n",
      "---\n",
      "Shape: (256, 256)\n",
      "Dimensions: 2\n",
      "Type: <class 'numpy.ndarray'>\n",
      "Data type: uint8\n",
      "min value, max value: (0, 126)\n",
      "---\n",
      "Shape: (256, 256)\n",
      "Dimensions: 2\n",
      "Type: <class 'numpy.ndarray'>\n",
      "Data type: uint8\n",
      "min value, max value: (0, 126)\n",
      "---\n",
      "Shape: (256, 256)\n",
      "Dimensions: 2\n",
      "Type: <class 'numpy.ndarray'>\n",
      "Data type: uint8\n",
      "min value, max value: (0, 30)\n",
      "---\n",
      "Shape: (256, 256)\n",
      "Dimensions: 2\n",
      "Type: <class 'numpy.ndarray'>\n",
      "Data type: uint8\n",
      "min value, max value: (0, 55)\n",
      "---\n",
      "Shape: (256, 256)\n",
      "Dimensions: 2\n",
      "Type: <class 'numpy.ndarray'>\n",
      "Data type: uint8\n",
      "min value, max value: (0, 72)\n",
      "---\n",
      "Shape: (256, 256)\n",
      "Dimensions: 2\n",
      "Type: <class 'numpy.ndarray'>\n",
      "Data type: uint8\n",
      "min value, max value: (0, 126)\n",
      "---\n",
      "Shape: (256, 256)\n",
      "Dimensions: 2\n",
      "Type: <class 'numpy.ndarray'>\n",
      "Data type: uint8\n",
      "min value, max value: (0, 126)\n",
      "---\n",
      "Shape: (256, 256)\n",
      "Dimensions: 2\n",
      "Type: <class 'numpy.ndarray'>\n",
      "Data type: uint8\n",
      "min value, max value: (0, 126)\n",
      "---\n",
      "Shape: (256, 256)\n",
      "Dimensions: 2\n",
      "Type: <class 'numpy.ndarray'>\n",
      "Data type: uint8\n",
      "min value, max value: (0, 126)\n",
      "---\n"
     ]
    }
   ],
   "source": [
    "from skimage import img_as_ubyte\n",
    "import cv2\n",
    "\n",
    "\n",
    "def save(save_path, npyfile):\n",
    "    for i, item in enumerate(npyfile):\n",
    "        img = item[:, :, 0]\n",
    "        img = img_as_ubyte(img)\n",
    "        (thresh, blackAndWhiteImage) = cv2.threshold(img, 30, 255, cv2.THRESH_BINARY)\n",
    "        cv2.imwrite(os.path.join(save_path, \"%d_predict_cv2.jpg\" % i), blackAndWhiteImage)\n",
    "\n",
    "\n",
    "save(r\"C:\\Users\\Asus\\Desktop\\PCD\\Organized dataset\\train_test_data\\predicted\", results)\n"
   ],
   "metadata": {
    "collapsed": false,
    "pycharm": {
     "name": "#%%\n"
    }
   }
  },
  {
   "cell_type": "code",
   "execution_count": 7,
   "outputs": [],
   "source": [
    "def testGenerator_one(test_path, target_size=(256, 256), flag_multi_class=False, as_gray=True):\n",
    "    img = io.imread(os.path.join(test_path), as_gray=as_gray)\n",
    "    img = img / 255\n",
    "    img = trans.resize(img, target_size)\n",
    "    img = np.reshape(img, img.shape + (1,)) if (not flag_multi_class) else img\n",
    "    img = np.reshape(img, (1,) + img.shape)\n",
    "\n",
    "    yield img"
   ],
   "metadata": {
    "collapsed": false,
    "pycharm": {
     "name": "#%%\n"
    }
   }
  },
  {
   "cell_type": "code",
   "execution_count": 56,
   "outputs": [
    {
     "name": "stderr",
     "output_type": "stream",
     "text": [
      "C:\\Users\\Asus\\AppData\\Local\\Temp\\ipykernel_8512\\1298040292.py:28: UserWarning: `Model.predict_generator` is deprecated and will be removed in a future version. Please use `Model.predict`, which supports generators.\n",
      "  results = model.predict_generator(testGene, 1, verbose=1)\n",
      "C:\\Users\\Asus\\Desktop\\PCD\\venv\\lib\\site-packages\\keras\\engine\\training_v1.py:2079: UserWarning: `Model.state_updates` will be removed in a future version. This property should not be used in TensorFlow 2.0, as `updates` are applied automatically.\n",
      "  updates=self.state_updates,\n"
     ]
    }
   ],
   "source": [
    "from matplotlib import pyplot as plt\n",
    "import pandas as pd\n",
    "from my_site.image.utilities.Path_Join import p_join\n",
    "from my_site.image.Traitement_image.Crop_From_Center import crop_image_from_center\n",
    "from my_site.image.utilities.IOU import iou\n",
    "\n",
    "df = pd.read_excel(r\"C:\\Users\\Asus\\Desktop\\PCD\\Organized dataset\\metadata\\metadata_good2.0.xlsx\")\n",
    "rslt_df_test = df[df['description'] == 'Mass-Test']\n",
    "rslt_df_test = rslt_df_test.drop_duplicates('file path')\n",
    "list_test = list(rslt_df_test['image full mammo path'])\n",
    "\n",
    "filename = \"4\"\n",
    "mammo_path = list_test[eval(filename)]\n",
    "index_df = df[df['image full mammo path'] == mammo_path].index.values[0]\n",
    "number = index_df\n",
    "df = pd.read_excel(r\"C:\\Users\\Asus\\Desktop\\PCD\\Organized dataset\\metadata\\metadata_good2.0.xlsx\")\n",
    "parent_dir = r'C:\\Users\\Asus\\Desktop\\PCD\\Organized dataset\\preprocessed_dataset'\n",
    "image_path = p_join(parent_dir, df['image full mammo path'][number])\n",
    "center = eval(df['center of roi preprocessed'][number])\n",
    "shape = eval(df['Shape of cropped image'][number])\n",
    "g_path = os.path.join(df['file path'][number], r\"GT_mask.jpg\")\n",
    "gt = mpimg.imread(p_join(parent_dir, g_path))\n",
    "image = mpimg.imread(image_path)\n",
    "# segmentation\n",
    "testGene = testGenerator_one(image_path)\n",
    "model = unet()\n",
    "model.load_weights(r\"C:\\Users\\Asus\\PycharmProjects\\pythonProject1\\my_site\\image\\unet_membrane.hdf5\")\n",
    "results = model.predict_generator(testGene, 1, verbose=1)\n",
    "img = results[0]\n",
    "#iou coefficient\n",
    "resized_gt = cv2.resize(gt, (256, 256))\n",
    "img = img_as_ubyte(img)\n",
    "\n"
   ],
   "metadata": {
    "collapsed": false,
    "pycharm": {
     "name": "#%%\n"
    }
   }
  },
  {
   "cell_type": "code",
   "execution_count": 57,
   "outputs": [
    {
     "data": {
      "text/plain": "<matplotlib.image.AxesImage at 0x1ab3a1cb760>"
     },
     "execution_count": 57,
     "metadata": {},
     "output_type": "execute_result"
    },
    {
     "data": {
      "text/plain": "<Figure size 432x288 with 1 Axes>",
      "image/png": "[encoded data removed]"
     },
     "metadata": {
      "needs_background": "light"
     },
     "output_type": "display_data"
    }
   ],
   "source": [
    "plt.imshow(img,cmap=\"gray\")\n"
   ],
   "metadata": {
    "collapsed": false,
    "pycharm": {
     "name": "#%%\n"
    }
   }
  },
  {
   "cell_type": "code",
   "execution_count": 66,
   "outputs": [
    {
     "data": {
      "text/plain": "<matplotlib.image.AxesImage at 0x1ab48376ee0>"
     },
     "execution_count": 66,
     "metadata": {},
     "output_type": "execute_result"
    },
    {
     "data": {
      "text/plain": "<Figure size 432x288 with 1 Axes>",
      "image/png": "[encoded data removed]"
     },
     "metadata": {
      "needs_background": "light"
     },
     "output_type": "display_data"
    }
   ],
   "source": [
    "(thresh, predict_img) = cv2.threshold(img, 100, 255, cv2.THRESH_BINARY)\n",
    "plt.imshow(predict_img,cmap=\"gray\")"
   ],
   "metadata": {
    "collapsed": false,
    "pycharm": {
     "name": "#%%\n"
    }
   }
  },
  {
   "cell_type": "code",
   "execution_count": 59,
   "outputs": [
    {
     "data": {
      "text/plain": "<matplotlib.image.AxesImage at 0x1ab3bfce280>"
     },
     "execution_count": 59,
     "metadata": {},
     "output_type": "execute_result"
    },
    {
     "data": {
      "text/plain": "<Figure size 432x288 with 1 Axes>",
      "image/png": "[encoded data removed]"
     },
     "metadata": {
      "needs_background": "light"
     },
     "output_type": "display_data"
    }
   ],
   "source": [
    "plt.imshow(gt, cmap=\"gray\")"
   ],
   "metadata": {
    "collapsed": false,
    "pycharm": {
     "name": "#%%\n"
    }
   }
  },
  {
   "cell_type": "code",
   "execution_count": 36,
   "outputs": [
    {
     "data": {
      "text/plain": "True"
     },
     "execution_count": 36,
     "metadata": {},
     "output_type": "execute_result"
    }
   ],
   "source": [
    "cv2.imwrite(r'C:\\Users\\Asus\\PycharmProjects\\pythonProject1\\temp\\test2.jpg',resized_gt)"
   ],
   "metadata": {
    "collapsed": false,
    "pycharm": {
     "name": "#%%\n"
    }
   }
  },
  {
   "cell_type": "code",
   "execution_count": 12,
   "outputs": [
    {
     "data": {
      "text/plain": "True"
     },
     "execution_count": 12,
     "metadata": {},
     "output_type": "execute_result"
    }
   ],
   "source": [
    "cv2.imwrite(r'C:\\Users\\Asus\\PycharmProjects\\pythonProject1\\temp\\test.jpg', predict_img)"
   ],
   "metadata": {
    "collapsed": false,
    "pycharm": {
     "name": "#%%\n"
    }
   }
  },
  {
   "cell_type": "code",
   "execution_count": 48,
   "outputs": [
    {
     "name": "stdout",
     "output_type": "stream",
     "text": [
      "IoU is 0.38333333333333336\n"
     ]
    },
    {
     "data": {
      "text/plain": "0.38333333333333336"
     },
     "execution_count": 48,
     "metadata": {},
     "output_type": "execute_result"
    }
   ],
   "source": [
    "# Get the scaling factor\n",
    "img_shape = gt.shape\n",
    "reshaped_img_shape = (256, 256)\n",
    "scale = np.flipud(np.divide(reshaped_img_shape,\n",
    "                            img_shape))  # you have to flip because the image.shape is (y,x) but your corner points are (x,y)\n",
    "\n",
    "#use this on to get new top left corner and bottom right corner coordinates\n",
    "new_center = int(np.multiply(center, scale)[0]), int(np.multiply(center, scale)[1])\n",
    "new_shape = int(np.multiply(shape, scale)[0]+20), int(np.multiply(shape, scale)[1]+20)\n",
    "\n",
    "y_true = crop_image_from_center(resized_gt, shape=new_shape, center=new_center)\n",
    "y_pred = crop_image_from_center(predict_img, shape=new_shape, center=new_center)\n",
    "\n",
    "iou(y_true, y_pred)"
   ],
   "metadata": {
    "collapsed": false,
    "pycharm": {
     "name": "#%%\n"
    }
   }
  },
  {
   "cell_type": "code",
   "execution_count": 49,
   "outputs": [
    {
     "name": "stdout",
     "output_type": "stream",
     "text": [
      "IoU is 0.38333333333333336\n",
      "0.38333333333333336\n"
     ]
    }
   ],
   "source": [
    "from my_site.image.utilities.IOU import iou\n",
    "\n",
    "print(iou(y_true, y_pred))"
   ],
   "metadata": {
    "collapsed": false,
    "pycharm": {
     "name": "#%%\n"
    }
   }
  },
  {
   "cell_type": "code",
   "execution_count": 52,
   "outputs": [
    {
     "name": "stdout",
     "output_type": "stream",
     "text": [
      "0.9458128078817734\n"
     ]
    }
   ],
   "source": [
    "intersection = 0\n",
    "union = new_shape[0]*new_shape[1]\n",
    "for i in range(y_true.shape[0]) :\n",
    "    for j in range(y_true.shape[1]):\n",
    "        if y_true[i][j] == y_pred[i][j]  :\n",
    "            intersection+=1\n",
    "print(intersection/union)"
   ],
   "metadata": {
    "collapsed": false,
    "pycharm": {
     "name": "#%%\n"
    }
   }
  },
  {
   "cell_type": "code",
   "execution_count": 46,
   "outputs": [
    {
     "data": {
      "text/plain": "<matplotlib.image.AxesImage at 0x1ab3809cac0>"
     },
     "execution_count": 46,
     "metadata": {},
     "output_type": "execute_result"
    },
    {
     "data": {
      "text/plain": "<Figure size 432x288 with 1 Axes>",
      "image/png": "[encoded data removed]"
     },
     "metadata": {
      "needs_background": "light"
     },
     "output_type": "display_data"
    }
   ],
   "source": [
    "from my_site.image.Traitement_image.Restore_image import restore_mask\n",
    "\n",
    "plt.imshow(y_true, cmap=\"gray\")"
   ],
   "metadata": {
    "collapsed": false,
    "pycharm": {
     "name": "#%%\n"
    }
   }
  },
  {
   "cell_type": "code",
   "execution_count": 47,
   "outputs": [
    {
     "data": {
      "text/plain": "<matplotlib.image.AxesImage at 0x1ab380f4b20>"
     },
     "execution_count": 47,
     "metadata": {},
     "output_type": "execute_result"
    },
    {
     "data": {
      "text/plain": "<Figure size 432x288 with 1 Axes>",
      "image/png": "[encoded data removed]"
     },
     "metadata": {
      "needs_background": "light"
     },
     "output_type": "display_data"
    }
   ],
   "source": [
    "from my_site.image.Traitement_image.Restore_image import restore_mask\n",
    "\n",
    "plt.imshow(y_pred, cmap=\"gray\")"
   ],
   "metadata": {
    "collapsed": false,
    "pycharm": {
     "name": "#%%\n"
    }
   }
  },
  {
   "cell_type": "code",
   "execution_count": 19,
   "outputs": [
    {
     "data": {
      "text/plain": "<matplotlib.image.AxesImage at 0x13b0e79fa00>"
     },
     "execution_count": 19,
     "metadata": {},
     "output_type": "execute_result"
    },
    {
     "data": {
      "text/plain": "<Figure size 432x288 with 1 Axes>",
      "image/png": "[encoded data removed]"
     },
     "metadata": {
      "needs_background": "light"
     },
     "output_type": "display_data"
    }
   ],
   "source": [
    "plt.imshow(img, cmap=\"gray\")"
   ],
   "metadata": {
    "collapsed": false,
    "pycharm": {
     "name": "#%%\n"
    }
   }
  },
  {
   "cell_type": "code",
   "execution_count": 24,
   "outputs": [
    {
     "data": {
      "text/plain": "<matplotlib.image.AxesImage at 0x13b0eab2700>"
     },
     "execution_count": 24,
     "metadata": {},
     "output_type": "execute_result"
    },
    {
     "data": {
      "text/plain": "<Figure size 432x288 with 1 Axes>",
      "image/png": "[encoded data removed]"
     },
     "metadata": {
      "needs_background": "light"
     },
     "output_type": "display_data"
    }
   ],
   "source": [
    "img = img_as_ubyte(img)\n",
    "(thresh, blackAndWhiteImage) = cv2.threshold(img, 5, 255, cv2.THRESH_BINARY)\n",
    "plt.imshow(blackAndWhiteImage, cmap=\"gray\")"
   ],
   "metadata": {
    "collapsed": false,
    "pycharm": {
     "name": "#%%\n"
    }
   }
  },
  {
   "cell_type": "code",
   "execution_count": 25,
   "outputs": [
    {
     "data": {
      "text/plain": "<matplotlib.image.AxesImage at 0x13b0eb065e0>"
     },
     "execution_count": 25,
     "metadata": {},
     "output_type": "execute_result"
    },
    {
     "data": {
      "text/plain": "<Figure size 432x288 with 1 Axes>",
      "image/png": "[encoded data removed]"
     },
     "metadata": {
      "needs_background": "light"
     },
     "output_type": "display_data"
    }
   ],
   "source": [
    "plt.imshow(resized_gt, cmap=\"gray\")"
   ],
   "metadata": {
    "collapsed": false,
    "pycharm": {
     "name": "#%%\n"
    }
   }
  },
  {
   "cell_type": "code",
   "execution_count": 23,
   "outputs": [
    {
     "data": {
      "text/plain": "<matplotlib.image.AxesImage at 0x13b0ea52fd0>"
     },
     "execution_count": 23,
     "metadata": {},
     "output_type": "execute_result"
    },
    {
     "data": {
      "text/plain": "<Figure size 432x288 with 1 Axes>",
      "image/png": "[encoded data removed]"
     },
     "metadata": {
      "needs_background": "light"
     },
     "output_type": "display_data"
    }
   ],
   "source": [
    "from my_site.image.Traitement_image.Crop_From_Center import crop_image_from_center\n",
    "\n",
    "c = crop_image_from_center(gt, shape=shape, center=center)\n",
    "\n",
    "plt.imshow(c, cmap=\"gray\")"
   ],
   "metadata": {
    "collapsed": false,
    "pycharm": {
     "name": "#%%\n"
    }
   }
  },
  {
   "cell_type": "code",
   "execution_count": 60,
   "outputs": [
    {
     "data": {
      "text/plain": "<matplotlib.image.AxesImage at 0x16d7d6a7730>"
     },
     "execution_count": 60,
     "metadata": {},
     "output_type": "execute_result"
    },
    {
     "data": {
      "text/plain": "<Figure size 432x288 with 1 Axes>",
      "image/png": "[encoded data removed]"
     },
     "metadata": {
      "needs_background": "light"
     },
     "output_type": "display_data"
    }
   ],
   "source": [
    "path_image = r\"C:\\Users\\Asus\\Desktop\\PCD\\Organized dataset\\train_test_data\\predicted\\0_predict_cv2.jpg\"\n",
    "why = mpimg.imread(path_image)\n",
    "plt.imshow(why)"
   ],
   "metadata": {
    "collapsed": false,
    "pycharm": {
     "name": "#%%\n"
    }
   }
  },
  {
   "cell_type": "code",
   "execution_count": 58,
   "outputs": [
    {
     "data": {
      "text/plain": "<matplotlib.image.AxesImage at 0x16d7d558880>"
     },
     "execution_count": 58,
     "metadata": {},
     "output_type": "execute_result"
    },
    {
     "data": {
      "text/plain": "<Figure size 432x288 with 1 Axes>",
      "image/png": "[encoded data removed]"
     },
     "metadata": {
      "needs_background": "light"
     },
     "output_type": "display_data"
    }
   ],
   "source": [
    "resized_image = cv2.resize(gt, why.shape)\n",
    "plt.imshow(resized_image, cmap=\"gray\")\n"
   ],
   "metadata": {
    "collapsed": false,
    "pycharm": {
     "name": "#%%\n"
    }
   }
  },
  {
   "cell_type": "code",
   "execution_count": 70,
   "outputs": [
    {
     "name": "stdout",
     "output_type": "stream",
     "text": [
      "(176, 22)\n",
      "(24, 24)\n"
     ]
    },
    {
     "data": {
      "text/plain": "<matplotlib.image.AxesImage at 0x16d957e6ac0>"
     },
     "execution_count": 70,
     "metadata": {},
     "output_type": "execute_result"
    },
    {
     "data": {
      "text/plain": "<Figure size 432x288 with 1 Axes>",
      "image/png": "[encoded data removed]"
     },
     "metadata": {
      "needs_background": "light"
     },
     "output_type": "display_data"
    }
   ],
   "source": [
    "# Get the scaling factor\n",
    "img_shape = gt.shape\n",
    "reshaped_img_shape = why.shape\n",
    "scale = np.flipud(np.divide(reshaped_img_shape,\n",
    "                            img_shape))  # you have to flip because the image.shape is (y,x) but your corner points are (x,y)\n",
    "\n",
    "#use this on to get new top left corner and bottom right corner coordinates\n",
    "new_center = int(np.multiply(center, scale)[0]), int(np.multiply(center, scale)[1])\n",
    "new_shape = int(np.multiply(shape, scale)[0]), int(np.multiply(shape, scale)[1])\n",
    "print(new_center)\n",
    "print(new_shape)\n",
    "y_true = crop_image_from_center(resized_image, shape=new_shape, center=new_center)\n",
    "y_pred = crop_image_from_center(why, shape=new_shape, center=new_center)\n",
    "plt.imshow(y_true, cmap=\"gray\")"
   ],
   "metadata": {
    "collapsed": false,
    "pycharm": {
     "name": "#%%\n"
    }
   }
  },
  {
   "cell_type": "code",
   "execution_count": 69,
   "outputs": [
    {
     "data": {
      "text/plain": "<matplotlib.image.AxesImage at 0x16d94b9f1c0>"
     },
     "execution_count": 69,
     "metadata": {},
     "output_type": "execute_result"
    },
    {
     "data": {
      "text/plain": "<Figure size 432x288 with 1 Axes>",
      "image/png": "[encoded data removed]"
     },
     "metadata": {
      "needs_background": "light"
     },
     "output_type": "display_data"
    }
   ],
   "source": [
    "plt.imshow(y_pred, cmap=\"gray\")"
   ],
   "metadata": {
    "collapsed": false,
    "pycharm": {
     "name": "#%%\n"
    }
   }
  },
  {
   "cell_type": "code",
   "execution_count": 73,
   "outputs": [
    {
     "name": "stdout",
     "output_type": "stream",
     "text": [
      "IoU is 0.5764411027568922\n",
      "0.5764411027568922\n",
      "Dice coefficient is 0.5833333333333334\n",
      "0.5833333333333334\n"
     ]
    }
   ],
   "source": [
    "from my_site.image.utilities.Dice_coef import dice_coef\n",
    "from my_site.image.utilities.IOU import iou\n",
    "\n",
    "print(iou(y_true, y_pred))\n",
    "print(dice_coef(y_true, y_pred))"
   ],
   "metadata": {
    "collapsed": false,
    "pycharm": {
     "name": "#%%\n"
    }
   }
  },
  {
   "cell_type": "markdown",
   "metadata": {
    "pycharm": {
     "name": "#%% md\n"
    }
   },
   "source": [
    "## Output one element"
   ]
  },
  {
   "cell_type": "code",
   "execution_count": 2,
   "metadata": {
    "pycharm": {
     "name": "#%%\n"
    }
   },
   "outputs": [
    {
     "name": "stderr",
     "output_type": "stream",
     "text": [
      "C:\\Users\\Asus\\AppData\\Local\\Temp\\ipykernel_13096\\987203364.py:4: UserWarning: `Model.predict_generator` is deprecated and will be removed in a future version. Please use `Model.predict`, which supports generators.\n",
      "  results = model.predict_generator(testGene,1,verbose=1)\n",
      "C:\\Users\\Asus\\Desktop\\PCD\\venv\\lib\\site-packages\\keras\\engine\\training_v1.py:2079: UserWarning: `Model.state_updates` will be removed in a future version. This property should not be used in TensorFlow 2.0, as `updates` are applied automatically.\n",
      "  updates=self.state_updates,\n"
     ]
    }
   ],
   "source": [
    "testGene = testGenerator_one(r\"C:\\Users\\Asus\\Desktop\\PCD\\Organized dataset\\train_test_data\\test\\0.jpg\")\n",
    "model = unet()\n",
    "model.load_weights(\"unet_membrane.hdf5\")\n",
    "results = model.predict_generator(testGene, 1, verbose=1)"
   ]
  },
  {
   "cell_type": "code",
   "execution_count": 7,
   "outputs": [
    {
     "name": "stdout",
     "output_type": "stream",
     "text": [
      "<class 'numpy.ndarray'>\n",
      "(256, 256, 1)\n"
     ]
    }
   ],
   "source": [
    "print(type(results[0]))\n",
    "print(results[0].shape)"
   ],
   "metadata": {
    "collapsed": false,
    "pycharm": {
     "name": "#%%\n"
    }
   }
  },
  {
   "cell_type": "code",
   "execution_count": 8,
   "outputs": [],
   "source": [
    "img = results[0]\n",
    "img = img[:, :, 0]\n",
    "img = img_as_ubyte(img)\n",
    "(thresh, blackAndWhiteImage) = cv2.threshold(img, 30, 255, cv2.THRESH_BINARY)"
   ],
   "metadata": {
    "collapsed": false,
    "pycharm": {
     "name": "#%%\n"
    }
   }
  },
  {
   "cell_type": "code",
   "execution_count": 12,
   "outputs": [
    {
     "data": {
      "text/plain": "<matplotlib.image.AxesImage at 0x17f6d24af10>"
     },
     "execution_count": 12,
     "metadata": {},
     "output_type": "execute_result"
    },
    {
     "data": {
      "text/plain": "<Figure size 432x288 with 1 Axes>",
      "image/png": "[encoded data removed]"
     },
     "metadata": {
      "needs_background": "light"
     },
     "output_type": "display_data"
    }
   ],
   "source": [
    "import matplotlib.pyplot as plt\n",
    "\n",
    "plt.imshow(blackAndWhiteImage, cmap=\"gray\")"
   ],
   "metadata": {
    "collapsed": false,
    "pycharm": {
     "name": "#%%\n"
    }
   }
  },
  {
   "cell_type": "code",
   "execution_count": null,
   "outputs": [],
   "source": [],
   "metadata": {
    "collapsed": false,
    "pycharm": {
     "name": "#%%\n"
    }
   }
  }
 ],
 "metadata": {
  "kernelspec": {
   "display_name": "Python 3 (ipykernel)",
   "language": "python",
   "name": "python3"
  },
  "language_info": {
   "codemirror_mode": {
    "name": "ipython",
    "version": 3
   },
   "file_extension": ".py",
   "mimetype": "text/x-python",
   "name": "python",
   "nbconvert_exporter": "python",
   "pygments_lexer": "ipython3",
   "version": "3.9.7"
  }
 },
 "nbformat": 4,
 "nbformat_minor": 1
}